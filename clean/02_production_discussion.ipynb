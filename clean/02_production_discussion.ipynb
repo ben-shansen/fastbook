{
 "cells": [
  {
   "cell_type": "markdown",
   "id": "3d8e2f33",
   "metadata": {},
   "source": [
    "# Overview"
   ]
  },
  {
   "cell_type": "markdown",
   "id": "55dfd78b",
   "metadata": {},
   "source": [
    "Building a bear classifier end to end to get exposure to basic high level APIs and have a discussion around deep learning capabilities and constraints. Importantly there is also a discussion about the datablock API\n",
    "\n",
    "We look at the start of art for:\n",
    "\n",
    "- Computer vision\n",
    "- Text\n",
    "- Tabular Data\n",
    "- Recommendation Systems\n",
    "\n",
    "we can solve a variety of problems well. Note that for tabular data it handles data with high cardinality well and that for NLP while we can generate text responses that sound reasonable the actual informational content may well be bad. "
   ]
  },
  {
   "cell_type": "markdown",
   "id": "c899762a",
   "metadata": {},
   "source": [
    "<img src=\"../state_deep_learning.png\" style=\"width: 700px;\">"
   ]
  },
  {
   "cell_type": "markdown",
   "id": "6735df73",
   "metadata": {},
   "source": [
    "Towards capabilities and constraints discuss the drivetrain approach and p-value interpretations.\n",
    "\n",
    "\n",
    "P-values by themselves can be misleading and can cause erroneous conclusions and should not be the sole basis for decisions. They tell you how much data you've collected not how important the relationship is. Should account for priors and think about the consequences for actions given that a hypothesis is validated or not. \n"
   ]
  },
  {
   "cell_type": "markdown",
   "id": "4193529c",
   "metadata": {},
   "source": [
    "## Questionaire"
   ]
  },
  {
   "cell_type": "markdown",
   "id": "8e3c7fb1",
   "metadata": {},
   "source": [
    "1. Provide an example of where the bear classification model might work poorly in production, due to structural or style differences in the training data.\n",
    "1. Where do text models currently have a major deficiency?\n",
    "1. What are possible negative societal implications of text generation models?\n",
    "1. In situations where a model might make mistakes, and those mistakes could be harmful, what is a good alternative to automating a process?\n",
    "1. What kind of tabular data is deep learning particularly good at?\n",
    "1. What's a key downside of directly using a deep learning model for recommendation systems?\n",
    "1. What are the steps of the Drivetrain Approach?\n",
    "1. How do the steps of the Drivetrain Approach map to a recommendation system?\n",
    "1. Create an image recognition model using data you curate, and deploy it on the web.\n",
    "1. What is `DataLoaders`?\n",
    "1. What four things do we need to tell fastai to create `DataLoaders`?\n",
    "1. What does the `splitter` parameter to `DataBlock` do?\n",
    "1. How do we ensure a random split always gives the same validation set?\n",
    "1. What letters are often used to signify the independent and dependent variables?\n",
    "1. What's the difference between the crop, pad, and squish resize approaches? When might you choose one over the others?\n",
    "1. What is data augmentation? Why is it needed?\n",
    "1. What is the difference between `item_tfms` and `batch_tfms`?\n",
    "1. What is a confusion matrix?\n",
    "1. What does `export` save?\n",
    "1. What is it called when we use a model for getting predictions, instead of training?\n",
    "1. What are IPython widgets?\n",
    "1. When might you want to use CPU for deployment? When might GPU be better?\n",
    "1. What are the downsides of deploying your app to a server, instead of to a client (or edge) device such as a phone or PC?\n",
    "1. What are three examples of problems that could occur when rolling out a bear warning system in practice?\n",
    "1. What is \"out-of-domain data\"?\n",
    "1. What is \"domain shift\"?\n",
    "1. What are the three steps in the deployment process?"
   ]
  },
  {
   "cell_type": "code",
   "execution_count": null,
   "id": "20954f31",
   "metadata": {},
   "outputs": [],
   "source": []
  }
 ],
 "metadata": {
  "kernelspec": {
   "display_name": "Python 3",
   "language": "python",
   "name": "python3"
  },
  "language_info": {
   "codemirror_mode": {
    "name": "ipython",
    "version": 3
   },
   "file_extension": ".py",
   "mimetype": "text/x-python",
   "name": "python",
   "nbconvert_exporter": "python",
   "pygments_lexer": "ipython3",
   "version": "3.8.8"
  }
 },
 "nbformat": 4,
 "nbformat_minor": 5
}
